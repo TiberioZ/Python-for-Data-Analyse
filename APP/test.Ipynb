{
 "cells": [
  {
   "cell_type": "code",
   "execution_count": 6,
   "metadata": {},
   "outputs": [],
   "source": [
    "import pandas as pd\n",
    "column_names = ['Age', \n",
    "                'Gender', \n",
    "                'Education', \n",
    "                'Country', \n",
    "                'Ethnicy', \n",
    "                'Nscore', \n",
    "                'Escore', \n",
    "                'Oscore', \n",
    "                'Ascore', \n",
    "                'Cscore', \n",
    "                'Impulsive', \n",
    "                'SS', \n",
    "                'Alcohol', \n",
    "                'Amphet', \n",
    "                'Amyl', \n",
    "                'Benzos', \n",
    "                'Caff', \n",
    "                'Cannabis', \n",
    "                'Choc',\n",
    "                'Coke',\n",
    "                'Crack',\n",
    "                'Ecstasy',\n",
    "                'Heroin',\n",
    "                'Ketamine',\n",
    "                'Legalh',\n",
    "                'LSD',\n",
    "                'Meth',\n",
    "                'Mushrooms',\n",
    "                'Nicotine',\n",
    "                'Semer',\n",
    "                'VSA']"
   ]
  },
  {
   "cell_type": "code",
   "execution_count": 7,
   "metadata": {},
   "outputs": [
    {
     "name": "stdout",
     "output_type": "stream",
     "text": [
      "       Age   Gender  Education  Country  Ethnicy   Nscore   Escore   Oscore  \\\n",
      "1  0.49788  0.48246   -0.05921  0.96082  0.12600  0.31287 -0.57545 -0.58331   \n",
      "2 -0.07854 -0.48246    1.98437  0.96082 -0.31685 -0.67825  1.93886  1.43533   \n",
      "3  0.49788 -0.48246   -0.05921  0.96082 -0.31685 -0.46725  0.80523 -0.84732   \n",
      "4 -0.95197  0.48246    1.16365  0.96082 -0.31685 -0.14882 -0.80615 -0.01928   \n",
      "5  0.49788  0.48246    1.98437  0.96082 -0.31685  0.73545 -1.63340 -0.45174   \n",
      "\n",
      "    Ascore   Cscore  ...  Ecstasy  Heroin Ketamine Legalh  LSD Meth Mushrooms  \\\n",
      "1 -0.91699 -0.00665  ...      CL0     CL0      CL0    CL0  CL0  CL0       CL0   \n",
      "2  0.76096 -0.14277  ...      CL4     CL0      CL2    CL0  CL2  CL3       CL0   \n",
      "3 -1.62090 -1.01450  ...      CL0     CL0      CL0    CL0  CL0  CL0       CL1   \n",
      "4  0.59042  0.58489  ...      CL0     CL0      CL2    CL0  CL0  CL0       CL0   \n",
      "5 -0.30172  1.30612  ...      CL1     CL0      CL0    CL1  CL0  CL0       CL2   \n",
      "\n",
      "  Nicotine Semer  VSA  \n",
      "1      CL2   CL0  CL0  \n",
      "2      CL4   CL0  CL0  \n",
      "3      CL0   CL0  CL0  \n",
      "4      CL2   CL0  CL0  \n",
      "5      CL2   CL0  CL0  \n",
      "\n",
      "[5 rows x 31 columns]\n"
     ]
    }
   ],
   "source": [
    "df = pd.read_csv(r\"C:\\Users\\tzolz\\Desktop\\PythonforDA\\DATA\\drug_consumption.data\", sep=',', names=column_names)\n",
    "print(df.head())"
   ]
  },
  {
   "cell_type": "code",
   "execution_count": null,
   "metadata": {},
   "outputs": [],
   "source": []
  }
 ],
 "metadata": {
  "kernelspec": {
   "display_name": "venv",
   "language": "python",
   "name": "python3"
  },
  "language_info": {
   "codemirror_mode": {
    "name": "ipython",
    "version": 3
   },
   "file_extension": ".py",
   "mimetype": "text/x-python",
   "name": "python",
   "nbconvert_exporter": "python",
   "pygments_lexer": "ipython3",
   "version": "3.11.4"
  }
 },
 "nbformat": 4,
 "nbformat_minor": 2
}
